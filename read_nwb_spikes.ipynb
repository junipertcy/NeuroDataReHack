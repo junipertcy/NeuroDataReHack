{
 "cells": [
  {
   "cell_type": "code",
   "execution_count": 19,
   "id": "7f45f729-090b-4526-9c09-cb6e0ca78ab8",
   "metadata": {},
   "outputs": [],
   "source": [
    "from dandi.dandiapi import DandiAPIClient\n",
    "\n",
    "dandiset_id = '000041'  # ephys dataset from the Svoboda Lab\n",
    "filepath = 'sub-BWRat17/sub-BWRat17_ses-BWRat17-121712_ecephys.nwb'  # 1.5GB file\n",
    "with DandiAPIClient() as client:\n",
    "    asset = client.get_dandiset(dandiset_id, 'draft').get_asset_by_path(filepath)\n",
    "    s3_url = asset.get_content_url(follow_redirects=1, strip_query=True)"
   ]
  },
  {
   "cell_type": "code",
   "execution_count": 20,
   "id": "3e07706f-ab31-4a48-ab9f-2f397aaeb84c",
   "metadata": {},
   "outputs": [
    {
     "data": {
      "text/plain": [
       "'https://dandiarchive.s3.amazonaws.com/blobs/52c/d33/52cd33fc-1a16-46f2-9c1d-4f9f1b621f3c'"
      ]
     },
     "execution_count": 20,
     "metadata": {},
     "output_type": "execute_result"
    }
   ],
   "source": [
    "s3_url"
   ]
  },
  {
   "cell_type": "code",
   "execution_count": 21,
   "id": "9ea109a9-df2e-4c97-9d33-d9107a8e8976",
   "metadata": {},
   "outputs": [
    {
     "name": "stderr",
     "output_type": "stream",
     "text": [
      "/opt/conda/lib/python3.10/site-packages/hdmf/spec/namespace.py:531: UserWarning: Ignoring cached namespace 'hdmf-common' version 1.1.3 because version 1.5.1 is already loaded.\n",
      "  warn(\"Ignoring cached namespace '%s' version %s because version %s is already loaded.\"\n",
      "/opt/conda/lib/python3.10/site-packages/hdmf/spec/namespace.py:531: UserWarning: Ignoring cached namespace 'core' version 2.2.5 because version 2.5.0 is already loaded.\n",
      "  warn(\"Ignoring cached namespace '%s' version %s because version %s is already loaded.\"\n"
     ]
    },
    {
     "data": {
      "application/vnd.jupyter.widget-view+json": {
       "model_id": "ffc7afa7e31440348ffd8fb1b222a4f2",
       "version_major": 2,
       "version_minor": 0
      },
      "text/plain": [
       "VBox(children=(HBox(children=(Label(value='session_description:', layout=Layout(max_height='40px', max_width='…"
      ]
     },
     "execution_count": 21,
     "metadata": {},
     "output_type": "execute_result"
    }
   ],
   "source": [
    "dandiset_id, filepath=\"0000041\",\"sub-BWRat17/sub-BWRat17_ses-BWRat17-121712_ecephys.nwb\"\n",
    "from pynwb import NWBHDF5IO\n",
    "from nwbwidgets import nwb2widget\n",
    "\n",
    "io = NWBHDF5IO(s3_url,mode='r',load_namespaces=True,driver='ros3')\n",
    "nwb = io.read()\n",
    "nwb2widget(nwb)"
   ]
  },
  {
   "cell_type": "code",
   "execution_count": 26,
   "id": "dee46e3a-24b6-4b10-a781-35993d1ff9a8",
   "metadata": {},
   "outputs": [
    {
     "ename": "AttributeError",
     "evalue": "'NWBFile' object has no attribute 'table'",
     "output_type": "error",
     "traceback": [
      "\u001b[0;31m---------------------------------------------------------------------------\u001b[0m",
      "\u001b[0;31mAttributeError\u001b[0m                            Traceback (most recent call last)",
      "Cell \u001b[0;32mIn [26], line 1\u001b[0m\n\u001b[0;32m----> 1\u001b[0m nwb\u001b[38;5;241m.\u001b[39mtable\n",
      "\u001b[0;31mAttributeError\u001b[0m: 'NWBFile' object has no attribute 'table'"
     ]
    }
   ],
   "source": [
    "\n",
    "\n"
   ]
  },
  {
   "cell_type": "code",
   "execution_count": null,
   "id": "d8ee8e82-e6d7-4132-9922-2064ea307e22",
   "metadata": {},
   "outputs": [],
   "source": [
    "#1. remove neurons with low firing rate\n",
    "#2. get data from different \"state\" <- GLM model to calculate the connectivity P(t)=\n",
    "#3. "
   ]
  },
  {
   "cell_type": "code",
   "execution_count": 13,
   "id": "b791986a-2884-4505-ba0c-81da53caa888",
   "metadata": {},
   "outputs": [
    {
     "ename": "TypeError",
     "evalue": "NWBHDF5IO.__init__: missing argument 'path'",
     "output_type": "error",
     "traceback": [
      "\u001b[0;31m---------------------------------------------------------------------------\u001b[0m",
      "\u001b[0;31mTypeError\u001b[0m                                 Traceback (most recent call last)",
      "Cell \u001b[0;32mIn [13], line 16\u001b[0m\n\u001b[1;32m     14\u001b[0m \u001b[38;5;28;01mwith\u001b[39;00m fs\u001b[38;5;241m.\u001b[39mopen(s3_url, \u001b[38;5;124m\"\u001b[39m\u001b[38;5;124mrb\u001b[39m\u001b[38;5;124m\"\u001b[39m) \u001b[38;5;28;01mas\u001b[39;00m f:\n\u001b[1;32m     15\u001b[0m     \u001b[38;5;28;01mwith\u001b[39;00m h5py\u001b[38;5;241m.\u001b[39mFile(f) \u001b[38;5;28;01mas\u001b[39;00m file:\n\u001b[0;32m---> 16\u001b[0m         \u001b[38;5;28;01mwith\u001b[39;00m pynwb\u001b[38;5;241m.\u001b[39mNWBHDF5IO(file\u001b[38;5;241m=\u001b[39mfile,load_namespaces\u001b[38;5;241m=\u001b[39m\u001b[38;5;28;01mTrue\u001b[39;00m, mode\u001b[38;5;241m=\u001b[39m\u001b[38;5;124m'\u001b[39m\u001b[38;5;124mr\u001b[39m\u001b[38;5;124m'\u001b[39m) \u001b[38;5;28;01mas\u001b[39;00m io:\n\u001b[1;32m     17\u001b[0m             nwbfile \u001b[38;5;241m=\u001b[39m io\u001b[38;5;241m.\u001b[39mread()\n\u001b[1;32m     18\u001b[0m             \u001b[38;5;28mprint\u001b[39m(nwbfile\u001b[38;5;241m.\u001b[39macquisition[\u001b[38;5;124m'\u001b[39m\u001b[38;5;124mlick_times\u001b[39m\u001b[38;5;124m'\u001b[39m]\u001b[38;5;241m.\u001b[39mtime_series[\u001b[38;5;124m'\u001b[39m\u001b[38;5;124mlick_left_times\u001b[39m\u001b[38;5;124m'\u001b[39m]\u001b[38;5;241m.\u001b[39mdata[:])\n",
      "File \u001b[0;32m/opt/conda/lib/python3.10/site-packages/hdmf/utils.py:644\u001b[0m, in \u001b[0;36mdocval.<locals>.dec.<locals>.func_call\u001b[0;34m(*args, **kwargs)\u001b[0m\n\u001b[1;32m    643\u001b[0m \u001b[38;5;28;01mdef\u001b[39;00m \u001b[38;5;21mfunc_call\u001b[39m(\u001b[38;5;241m*\u001b[39margs, \u001b[38;5;241m*\u001b[39m\u001b[38;5;241m*\u001b[39mkwargs):\n\u001b[0;32m--> 644\u001b[0m     pargs \u001b[38;5;241m=\u001b[39m \u001b[43m_check_args\u001b[49m\u001b[43m(\u001b[49m\u001b[43margs\u001b[49m\u001b[43m,\u001b[49m\u001b[43m \u001b[49m\u001b[43mkwargs\u001b[49m\u001b[43m)\u001b[49m\n\u001b[1;32m    645\u001b[0m     \u001b[38;5;28;01mreturn\u001b[39;00m func(args[\u001b[38;5;241m0\u001b[39m], \u001b[38;5;241m*\u001b[39m\u001b[38;5;241m*\u001b[39mpargs)\n",
      "File \u001b[0;32m/opt/conda/lib/python3.10/site-packages/hdmf/utils.py:637\u001b[0m, in \u001b[0;36mdocval.<locals>.dec.<locals>._check_args\u001b[0;34m(args, kwargs)\u001b[0m\n\u001b[1;32m    635\u001b[0m     \u001b[38;5;28;01mif\u001b[39;00m parse_err:\n\u001b[1;32m    636\u001b[0m         msg \u001b[38;5;241m=\u001b[39m \u001b[38;5;124m'\u001b[39m\u001b[38;5;132;01m%s\u001b[39;00m\u001b[38;5;124m: \u001b[39m\u001b[38;5;132;01m%s\u001b[39;00m\u001b[38;5;124m'\u001b[39m \u001b[38;5;241m%\u001b[39m (func\u001b[38;5;241m.\u001b[39m\u001b[38;5;18m__qualname__\u001b[39m, \u001b[38;5;124m'\u001b[39m\u001b[38;5;124m, \u001b[39m\u001b[38;5;124m'\u001b[39m\u001b[38;5;241m.\u001b[39mjoin(parse_err))\n\u001b[0;32m--> 637\u001b[0m         \u001b[38;5;28;01mraise\u001b[39;00m ExceptionType(msg)\n\u001b[1;32m    639\u001b[0m \u001b[38;5;28;01mreturn\u001b[39;00m parsed[\u001b[38;5;124m'\u001b[39m\u001b[38;5;124margs\u001b[39m\u001b[38;5;124m'\u001b[39m]\n",
      "\u001b[0;31mTypeError\u001b[0m: NWBHDF5IO.__init__: missing argument 'path'"
     ]
    }
   ],
   "source": [
    "import fsspec\n",
    "import pynwb\n",
    "import h5py\n",
    "from fsspec.implementations.cached import CachingFileSystem\n",
    "\n",
    "# first, create a virtual filesystem based on the http protocol and use\n",
    "# caching to save accessed data to RAM.\n",
    "fs = CachingFileSystem(\n",
    "    fs=fsspec.filesystem(\"http\"),\n",
    "    cache_storage=\"nwb-cache\",  # Local folder for the cache\n",
    ")\n",
    "\n",
    "# next, open the file\n",
    "with fs.open(s3_url, \"rb\") as f:\n",
    "    with h5py.File(f) as file:\n",
    "        with pynwb.NWBHDF5IO(file=file,load_namespaces=True, mode='r') as io:\n",
    "            nwbfile = io.read()\n",
    "            print(nwbfile.acquisition['lick_times'].time_series['lick_left_times'].data[:])\n"
   ]
  },
  {
   "cell_type": "code",
   "execution_count": null,
   "id": "13229fcb-ea14-48b8-8e72-7695b6380345",
   "metadata": {},
   "outputs": [],
   "source": [
    "from pynwb import NWBHDF5IO\n",
    "\n"
   ]
  },
  {
   "cell_type": "code",
   "execution_count": 27,
   "id": "fe745ba5-05d0-4967-b81d-c0cf4da9c54a",
   "metadata": {},
   "outputs": [
    {
     "name": "stdout",
     "output_type": "stream",
     "text": [
      "/home/jovyan\n"
     ]
    }
   ],
   "source": [
    "!pwd"
   ]
  },
  {
   "cell_type": "code",
   "execution_count": null,
   "id": "70ac44ec-c273-44b9-8856-0e9252a63946",
   "metadata": {},
   "outputs": [],
   "source": []
  }
 ],
 "metadata": {
  "kernelspec": {
   "display_name": "Python 3 (ipykernel)",
   "language": "python",
   "name": "python3"
  },
  "language_info": {
   "codemirror_mode": {
    "name": "ipython",
    "version": 3
   },
   "file_extension": ".py",
   "mimetype": "text/x-python",
   "name": "python",
   "nbconvert_exporter": "python",
   "pygments_lexer": "ipython3",
   "version": "3.10.6"
  }
 },
 "nbformat": 4,
 "nbformat_minor": 5
}
