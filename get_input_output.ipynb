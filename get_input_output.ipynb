{
 "cells": [
  {
   "cell_type": "code",
   "execution_count": null,
   "id": "69459d61-2dcf-4f53-81a8-4cad2ce22b58",
   "metadata": {},
   "outputs": [],
   "source": [
    "from dandi.dandiapi import DandiAPIClient\n",
    "\n",
    "dandiset_id = '000041'  # ephys dataset from the Svoboda Lab\n",
    "filepath = 'sub-BWRat17/sub-BWRat17_ses-BWRat17-121712_ecephys.nwb'  # 1.5GB file\n",
    "with DandiAPIClient() as client:\n",
    "    asset = client.get_dandiset(dandiset_id, 'draft').get_asset_by_path(filepath)\n",
    "    s3_url = asset.get_content_url(follow_redirects=1, strip_query=True)"
   ]
  },
  {
   "cell_type": "code",
   "execution_count": null,
   "id": "9457692a-b33c-4d22-82ed-30ec360f8eec",
   "metadata": {},
   "outputs": [],
   "source": [
    "dandiset_id, filepath=\"0000041\",\"sub-BWRat17/sub-BWRat17_ses-BWRat17-121712_ecephys.nwb\"\n",
    "from pynwb import NWBHDF5IO\n",
    "from nwbwidgets import nwb2widget\n",
    "\n",
    "io = NWBHDF5IO(s3_url,mode='r',load_namespaces=True,driver='ros3')\n",
    "nwb = io.read()\n"
   ]
  },
  {
   "cell_type": "code",
   "execution_count": null,
   "id": "22145c0d-9cc6-49f4-a6a0-20c0ce3bc55b",
   "metadata": {},
   "outputs": [],
   "source": [
    "nwb2widget(nwb)"
   ]
  },
  {
   "cell_type": "code",
   "execution_count": null,
   "id": "f7f2bd22-9107-480c-8f79-1527dba1a199",
   "metadata": {},
   "outputs": [],
   "source": [
    "nwb.units.to_dataframe()"
   ]
  },
  {
   "cell_type": "code",
   "execution_count": null,
   "id": "dbc4e0d1-cc58-45fb-86a5-e149e0f88a9e",
   "metadata": {},
   "outputs": [],
   "source": [
    "import numpy\n",
    "\n",
    "spiketrain=numpy.zeros(len(nwb.units[\"spike_times\"]))\n",
    "outputspiketrain=numpy.zeros(len(nwb.units[\"spike_times\"]))\n",
    "\n",
    "\n",
    "for i in range(len(nwb.units[\"spike_times\"])):\n",
    "    #print(i)\n",
    "    spiketrain[i] = numpy.histogram(nwb.units[\"spike_times\"][i], \n",
    "                         bins = 1, \n",
    "                         range = (0, 2))[0]/2\n",
    "    \n",
    "    outputspiketrain[i] = numpy.histogram(nwb.units[\"spike_times\"][i], \n",
    "                         bins = 1, \n",
    "                         range = (2, 4))[0]/2\n",
    "\n",
    "\n",
    "# select only excitatory neurons & firing rate not equal to zero   \n",
    "\n",
    "spiketrainN=spiketrain[(nwb.units[\"cell_type\"][:]==\"excitatory\") & ((spiketrain>0) | (outputspiketrain>0))]\n",
    "outputspiketrainN=outputspiketrain[(nwb.units[\"cell_type\"][:]==\"excitatory\") & ((spiketrain>0) | (outputspiketrain>0))]\n",
    "\n",
    "  "
   ]
  }
 ],
 "metadata": {
  "kernelspec": {
   "display_name": "Python 3 (ipykernel)",
   "language": "python",
   "name": "python3"
  },
  "language_info": {
   "codemirror_mode": {
    "name": "ipython",
    "version": 3
   },
   "file_extension": ".py",
   "mimetype": "text/x-python",
   "name": "python",
   "nbconvert_exporter": "python",
   "pygments_lexer": "ipython3",
   "version": "3.10.6"
  }
 },
 "nbformat": 4,
 "nbformat_minor": 5
}
