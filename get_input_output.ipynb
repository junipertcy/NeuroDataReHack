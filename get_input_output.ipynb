{
 "cells": [
  {
   "cell_type": "code",
   "execution_count": null,
   "id": "dbc4e0d1-cc58-45fb-86a5-e149e0f88a9e",
   "metadata": {},
   "outputs": [],
   "source": [
    "import numpy\n",
    "\n",
    "spiketrain=numpy.zeros(len(nwb.units[\"spike_times\"]))\n",
    "outputspiketrain=numpy.zeros(len(nwb.units[\"spike_times\"]))\n",
    "\n",
    "\n",
    "for i in range(len(nwb.units[\"spike_times\"])):\n",
    "    #print(i)\n",
    "    spiketrain[i] = numpy.histogram(nwb.units[\"spike_times\"][i], \n",
    "                         bins = 1, \n",
    "                         range = (0, 2))[0]/2\n",
    "    \n",
    "    outputspiketrain[i] = numpy.histogram(nwb.units[\"spike_times\"][i], \n",
    "                         bins = 1, \n",
    "                         range = (2, 4))[0]/2\n",
    "\n",
    "\n",
    "# select only excitatory neurons & firing rate not equal to zero   \n",
    "\n",
    "spiketrainN=spiketrain[(nwb.units[\"cell_type\"][:]==\"excitatory\") & ((spiketrain>0) | (outputspiketrain>0))]\n",
    "outputspiketrainN=outputspiketrain[(nwb.units[\"cell_type\"][:]==\"excitatory\") & ((spiketrain>0) | (outputspiketrain>0))]\n",
    "\n",
    "  "
   ]
  }
 ],
 "metadata": {
  "kernelspec": {
   "display_name": "Python (Allen SDK)",
   "language": "python",
   "name": "allen"
  },
  "language_info": {
   "codemirror_mode": {
    "name": "ipython",
    "version": 3
   },
   "file_extension": ".py",
   "mimetype": "text/x-python",
   "name": "python",
   "nbconvert_exporter": "python",
   "pygments_lexer": "ipython3",
   "version": "3.8.13"
  }
 },
 "nbformat": 4,
 "nbformat_minor": 5
}
