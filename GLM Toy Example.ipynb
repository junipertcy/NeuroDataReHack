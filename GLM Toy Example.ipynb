{
 "cells": [
  {
   "cell_type": "code",
   "execution_count": 18,
   "metadata": {},
   "outputs": [],
   "source": [
    "import os.path as op\n",
    "import numpy as np\n",
    "import pandas as pd\n",
    "\n",
    "from pyglmnet import GLMCV\n",
    "from spykes.ml.strf import STRF\n",
    "\n",
    "import matplotlib.pyplot as plt\n",
    "from tempfile import TemporaryDirectory\n",
    "from sklearn.model_selection import train_test_split # noqa\n",
    "from pyglmnet.datasets import fetch_tikhonov_data\n"
   ]
  },
  {
   "cell_type": "code",
   "execution_count": 95,
   "metadata": {},
   "outputs": [
    {
     "data": {
      "text/plain": [
       "11"
      ]
     },
     "execution_count": 95,
     "metadata": {},
     "output_type": "execute_result"
    }
   ],
   "source": [
    "np.random.randint(100)"
   ]
  },
  {
   "cell_type": "code",
   "execution_count": 150,
   "metadata": {},
   "outputs": [],
   "source": [
    "T = 200\n",
    "J = 3\n",
    "x = np.zeros((T,J))\n",
    "for j in np.arange(1,J):\n",
    "    x_tmp = np.zeros((T,))\n",
    "    for m in np.arange(1,5):\n",
    "        omega = np.arange(1,T+1)/(np.pi/m) + np.random.randint(25)\n",
    "        x_m   = np.sin(omega);\n",
    "        x_m   = x_m / 1 + x_m\n",
    "        x_tmp = 1.0*(x_m > 1.9 ) + x_tmp\n",
    "    x[:,j] = x_tmp\n"
   ]
  },
  {
   "cell_type": "code",
   "execution_count": 197,
   "metadata": {},
   "outputs": [
    {
     "data": {
      "image/png": "[encoded data removed]",
      "text/plain": [
       "<Figure size 640x480 with 1 Axes>"
      ]
     },
     "metadata": {},
     "output_type": "display_data"
    }
   ],
   "source": [
    "plt.stem(x[:,0])\n",
    "for j in np.arange(0,3):\n",
    "    plt.stem(x[:,j])\n",
    "    plt.title(\"Simulated data\")\n",
    "    plt.xlabel(\"Time\")\n",
    "    plt.ylabel(\"Spike counts\")"
   ]
  },
  {
   "cell_type": "code",
   "execution_count": 198,
   "metadata": {},
   "outputs": [
    {
     "name": "stderr",
     "output_type": "stream",
     "text": [
      "Looping through the regularization path\n",
      "Lambda: 0.5000\n",
      "Lambda: 0.5000\n",
      "\tParameter update tolerance. Converged in 10 iterations\n",
      "Lambda: 0.5000\n",
      "Lambda: 0.5000\n",
      "Lambda: 0.5000\n",
      "Lambda: 0.3237\n",
      "Lambda: 0.3237\n",
      "\tParameter update tolerance. Converged in 48 iterations\n",
      "Lambda: 0.3237\n",
      "\tParameter update tolerance. Converged in 48 iterations\n",
      "Lambda: 0.3237\n",
      "\tParameter update tolerance. Converged in 48 iterations\n",
      "Lambda: 0.3237\n",
      "\tParameter update tolerance. Converged in 48 iterations\n",
      "Lambda: 0.2096\n",
      "Lambda: 0.2096\n",
      "\tParameter update tolerance. Converged in 2 iterations\n",
      "Lambda: 0.2096\n",
      "\tParameter update tolerance. Converged in 2 iterations\n",
      "Lambda: 0.2096\n",
      "\tParameter update tolerance. Converged in 2 iterations\n",
      "Lambda: 0.2096\n",
      "\tParameter update tolerance. Converged in 2 iterations\n",
      "Lambda: 0.1357\n",
      "Lambda: 0.1357\n",
      "\tParameter update tolerance. Converged in 2 iterations\n",
      "Lambda: 0.1357\n",
      "\tParameter update tolerance. Converged in 2 iterations\n",
      "Lambda: 0.1357\n",
      "\tParameter update tolerance. Converged in 2 iterations\n",
      "Lambda: 0.1357\n",
      "\tParameter update tolerance. Converged in 2 iterations\n",
      "Lambda: 0.0879\n",
      "Lambda: 0.0879\n",
      "\tParameter update tolerance. Converged in 2 iterations\n",
      "Lambda: 0.0879\n",
      "\tParameter update tolerance. Converged in 2 iterations\n",
      "Lambda: 0.0879\n",
      "\tParameter update tolerance. Converged in 2 iterations\n",
      "Lambda: 0.0879\n",
      "\tParameter update tolerance. Converged in 2 iterations\n",
      "Lambda: 0.0569\n",
      "Lambda: 0.0569\n",
      "\tParameter update tolerance. Converged in 2 iterations\n",
      "Lambda: 0.0569\n",
      "\tParameter update tolerance. Converged in 2 iterations\n",
      "Lambda: 0.0569\n",
      "\tParameter update tolerance. Converged in 2 iterations\n",
      "Lambda: 0.0569\n",
      "\tParameter update tolerance. Converged in 2 iterations\n",
      "Lambda: 0.0368\n",
      "Lambda: 0.0368\n",
      "\tParameter update tolerance. Converged in 2 iterations\n",
      "Lambda: 0.0368\n",
      "\tParameter update tolerance. Converged in 2 iterations\n",
      "Lambda: 0.0368\n",
      "\tParameter update tolerance. Converged in 2 iterations\n",
      "Lambda: 0.0368\n",
      "\tParameter update tolerance. Converged in 2 iterations\n",
      "Lambda: 0.0239\n",
      "Lambda: 0.0239\n",
      "\tParameter update tolerance. Converged in 2 iterations\n",
      "Lambda: 0.0239\n",
      "\tParameter update tolerance. Converged in 2 iterations\n",
      "Lambda: 0.0239\n",
      "\tParameter update tolerance. Converged in 2 iterations\n",
      "Lambda: 0.0239\n",
      "\tParameter update tolerance. Converged in 2 iterations\n",
      "Lambda: 0.0154\n",
      "Lambda: 0.0154\n",
      "\tParameter update tolerance. Converged in 2 iterations\n",
      "Lambda: 0.0154\n",
      "\tParameter update tolerance. Converged in 2 iterations\n",
      "Lambda: 0.0154\n",
      "\tParameter update tolerance. Converged in 2 iterations\n",
      "Lambda: 0.0154\n",
      "\tParameter update tolerance. Converged in 2 iterations\n",
      "Lambda: 0.0100\n",
      "Lambda: 0.0100\n",
      "\tParameter update tolerance. Converged in 2 iterations\n",
      "Lambda: 0.0100\n",
      "\tParameter update tolerance. Converged in 2 iterations\n",
      "Lambda: 0.0100\n",
      "\tParameter update tolerance. Converged in 2 iterations\n",
      "Lambda: 0.0100\n",
      "\tParameter update tolerance. Converged in 2 iterations\n",
      "Looping through the regularization path\n",
      "Lambda: 0.5000\n",
      "Lambda: 0.5000\n",
      "\tParameter update tolerance. Converged in 8 iterations\n",
      "Lambda: 0.5000\n",
      "\tParameter update tolerance. Converged in 8 iterations\n",
      "Lambda: 0.5000\n",
      "\tParameter update tolerance. Converged in 11 iterations\n",
      "Lambda: 0.5000\n",
      "\tParameter update tolerance. Converged in 9 iterations\n",
      "Lambda: 0.3237\n",
      "Lambda: 0.3237\n",
      "\tParameter update tolerance. Converged in 3 iterations\n",
      "Lambda: 0.3237\n",
      "\tParameter update tolerance. Converged in 2 iterations\n",
      "Lambda: 0.3237\n",
      "\tParameter update tolerance. Converged in 16 iterations\n",
      "Lambda: 0.3237\n",
      "\tParameter update tolerance. Converged in 2 iterations\n",
      "Lambda: 0.2096\n",
      "Lambda: 0.2096\n",
      "\tParameter update tolerance. Converged in 3 iterations\n",
      "Lambda: 0.2096\n",
      "\tParameter update tolerance. Converged in 16 iterations\n",
      "Lambda: 0.2096\n",
      "\tParameter update tolerance. Converged in 41 iterations\n",
      "Lambda: 0.2096\n",
      "\tParameter update tolerance. Converged in 9 iterations\n",
      "Lambda: 0.1357\n",
      "Lambda: 0.1357\n",
      "\tParameter update tolerance. Converged in 7 iterations\n",
      "Lambda: 0.1357\n",
      "\tParameter update tolerance. Converged in 33 iterations\n",
      "Lambda: 0.1357\n",
      "Lambda: 0.1357\n",
      "\tParameter update tolerance. Converged in 13 iterations\n"
     ]
    },
    {
     "name": "stdout",
     "output_type": "stream",
     "text": [
      "(199, 3)\n",
      "(199, 3)\n",
      "glm:  <\n",
      "Distribution | poisson\n",
      "alpha | 1.00\n",
      "max_iter | 100.00\n",
      "lambda: 0.50 to 0.01\n",
      ">\n",
      "[[-0.          0.          0.        ]\n",
      " [ 0.          0.          0.        ]\n",
      " [ 0.          0.          0.        ]\n",
      " [-5.83002469  0.          0.        ]]\n"
     ]
    },
    {
     "name": "stderr",
     "output_type": "stream",
     "text": [
      "Lambda: 0.0879\n",
      "Lambda: 0.0879\n",
      "\tParameter update tolerance. Converged in 7 iterations\n",
      "Lambda: 0.0879\n",
      "Lambda: 0.0879\n",
      "Lambda: 0.0879\n",
      "\tParameter update tolerance. Converged in 18 iterations\n",
      "Lambda: 0.0569\n",
      "Lambda: 0.0569\n",
      "\tParameter update tolerance. Converged in 8 iterations\n",
      "Lambda: 0.0569\n",
      "Lambda: 0.0569\n",
      "Lambda: 0.0569\n",
      "\tParameter update tolerance. Converged in 24 iterations\n",
      "Lambda: 0.0368\n",
      "Lambda: 0.0368\n",
      "\tParameter update tolerance. Converged in 10 iterations\n",
      "Lambda: 0.0368\n",
      "Lambda: 0.0368\n",
      "Lambda: 0.0368\n",
      "Lambda: 0.0239\n",
      "Lambda: 0.0239\n",
      "\tParameter update tolerance. Converged in 16 iterations\n",
      "Lambda: 0.0239\n",
      "Lambda: 0.0239\n",
      "Lambda: 0.0239\n",
      "Lambda: 0.0154\n",
      "Lambda: 0.0154\n",
      "\tParameter update tolerance. Converged in 46 iterations\n",
      "Lambda: 0.0154\n",
      "Lambda: 0.0154\n",
      "Lambda: 0.0154\n",
      "Lambda: 0.0100\n",
      "Lambda: 0.0100\n",
      "\tParameter update tolerance. Converged in 48 iterations\n",
      "Lambda: 0.0100\n",
      "Lambda: 0.0100\n",
      "Lambda: 0.0100\n",
      "Looping through the regularization path\n",
      "Lambda: 0.5000\n",
      "Lambda: 0.5000\n",
      "\tParameter update tolerance. Converged in 3 iterations\n",
      "Lambda: 0.5000\n",
      "\tParameter update tolerance. Converged in 4 iterations\n",
      "Lambda: 0.5000\n",
      "\tParameter update tolerance. Converged in 5 iterations\n",
      "Lambda: 0.5000\n",
      "\tParameter update tolerance. Converged in 4 iterations\n",
      "Lambda: 0.3237\n",
      "Lambda: 0.3237\n",
      "\tParameter update tolerance. Converged in 3 iterations\n",
      "Lambda: 0.3237\n",
      "\tParameter update tolerance. Converged in 8 iterations\n",
      "Lambda: 0.3237\n",
      "\tParameter update tolerance. Converged in 16 iterations\n",
      "Lambda: 0.3237\n",
      "\tParameter update tolerance. Converged in 6 iterations\n",
      "Lambda: 0.2096\n",
      "Lambda: 0.2096\n",
      "\tParameter update tolerance. Converged in 9 iterations\n",
      "Lambda: 0.2096\n",
      "\tParameter update tolerance. Converged in 16 iterations\n",
      "Lambda: 0.2096\n",
      "\tParameter update tolerance. Converged in 56 iterations\n",
      "Lambda: 0.2096\n",
      "\tParameter update tolerance. Converged in 12 iterations\n",
      "Lambda: 0.1357\n",
      "Lambda: 0.1357\n",
      "\tParameter update tolerance. Converged in 9 iterations\n",
      "Lambda: 0.1357\n",
      "\tParameter update tolerance. Converged in 42 iterations\n",
      "Lambda: 0.1357\n",
      "Lambda: 0.1357\n",
      "\tParameter update tolerance. Converged in 23 iterations\n",
      "Lambda: 0.0879\n",
      "Lambda: 0.0879\n",
      "\tParameter update tolerance. Converged in 11 iterations\n",
      "Lambda: 0.0879\n",
      "Lambda: 0.0879\n",
      "Lambda: 0.0879\n",
      "\tParameter update tolerance. Converged in 56 iterations\n",
      "Lambda: 0.0569\n",
      "Lambda: 0.0569\n",
      "\tParameter update tolerance. Converged in 15 iterations\n",
      "Lambda: 0.0569\n",
      "Lambda: 0.0569\n",
      "Lambda: 0.0569\n",
      "Lambda: 0.0368\n",
      "Lambda: 0.0368\n",
      "\tParameter update tolerance. Converged in 22 iterations\n",
      "Lambda: 0.0368\n",
      "Lambda: 0.0368\n",
      "Lambda: 0.0368\n",
      "Lambda: 0.0239\n",
      "Lambda: 0.0239\n",
      "Lambda: 0.0239\n"
     ]
    },
    {
     "name": "stdout",
     "output_type": "stream",
     "text": [
      "[[-0.         -0.          0.        ]\n",
      " [ 0.          0.          0.        ]\n",
      " [ 0.          0.28511044  0.        ]\n",
      " [-5.83002469 -1.00472023  0.        ]]\n"
     ]
    },
    {
     "name": "stderr",
     "output_type": "stream",
     "text": [
      "Lambda: 0.0239\n",
      "Lambda: 0.0239\n",
      "Lambda: 0.0154\n",
      "Lambda: 0.0154\n",
      "Lambda: 0.0154\n",
      "Lambda: 0.0154\n",
      "Lambda: 0.0154\n",
      "Lambda: 0.0100\n",
      "Lambda: 0.0100\n",
      "Lambda: 0.0100\n",
      "Lambda: 0.0100\n",
      "Lambda: 0.0100\n"
     ]
    },
    {
     "name": "stdout",
     "output_type": "stream",
     "text": [
      "[[-0.         -0.         -0.        ]\n",
      " [ 0.          0.          0.24154999]\n",
      " [ 0.          0.28511044 -0.        ]\n",
      " [-5.83002469 -1.00472023 -1.03766379]]\n"
     ]
    }
   ],
   "source": [
    "# Create design matrix\n",
    "H = 1\n",
    "Y = x[H:,:]\n",
    "X = x[0:T-1,:]\n",
    "print(np.shape(X))\n",
    "print(np.shape(Y))\n",
    "# set up the lasso model, an alpha of 1.0 corresponds to lasso regularization\n",
    "glm = GLMCV(distr=\"poisson\", tol=1e-3,\n",
    "            score_metric=\"pseudo_R2\",\n",
    "            alpha=1.0, learning_rate=3, max_iter=100, cv=3, verbose=True)\n",
    "\n",
    "print(\"glm: \", glm)\n",
    "THETAS = np.zeros((J*H+1,J))\n",
    "for j in np.arange(0,J):\n",
    "    glm_est = glm.fit(X, Y[:,j]);\n",
    "    THETAS[:,j] = np.append(glm_est.beta_,glm_est.beta0_);\n",
    "    print(THETAS)"
   ]
  },
  {
   "cell_type": "code",
   "execution_count": 199,
   "metadata": {},
   "outputs": [
    {
     "name": "stdout",
     "output_type": "stream",
     "text": [
      "[[-0.         -0.         -0.        ]\n",
      " [ 0.          0.          0.24154999]\n",
      " [ 0.          0.28511044 -0.        ]\n",
      " [-5.83002469 -1.00472023 -1.03766379]]\n"
     ]
    }
   ],
   "source": [
    "print(THETAS)"
   ]
  },
  {
   "cell_type": "code",
   "execution_count": 201,
   "metadata": {},
   "outputs": [
    {
     "data": {
      "text/plain": [
       "array([-0.        ,  0.        ,  0.28511044, -1.00472023])"
      ]
     },
     "execution_count": 201,
     "metadata": {},
     "output_type": "execute_result"
    }
   ],
   "source": [
    "THETAS[:,1]"
   ]
  }
 ],
 "metadata": {
  "kernelspec": {
   "display_name": "neurodatarehack",
   "language": "python",
   "name": "neurodatarehack"
  },
  "language_info": {
   "codemirror_mode": {
    "name": "ipython",
    "version": 3
   },
   "file_extension": ".py",
   "mimetype": "text/x-python",
   "name": "python",
   "nbconvert_exporter": "python",
   "pygments_lexer": "ipython3",
   "version": "3.8.13"
  }
 },
 "nbformat": 4,
 "nbformat_minor": 2
}
